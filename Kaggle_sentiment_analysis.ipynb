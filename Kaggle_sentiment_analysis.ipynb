{
 "cells": [
  {
   "cell_type": "markdown",
   "metadata": {},
   "source": [
    "https://www.kaggle.com/c/morecomplicatedsentiment/overview\n",
    "\n",
    "**Заказчику нужно решение задачи анализа тональности отзывов на товары. Заказчик хочет, оценить возможное качество работы такого алгоритма на небольшой тестовой выборке. При этом больше никаких данных не предоставляется.**\n",
    "\n",
    "**В соревновании предстоит посмотреть на предоставленные заказчиком отзывы, собрать похожие отзывы в качестве обучающей выборки, и поэкспериментировать с постановкой задачи (разметкой выборки на позитивные и негативные примеры) так, чтобы результат на примерах заказчика был по возможности получше.**\n"
   ]
  },
  {
   "cell_type": "code",
   "execution_count": 1,
   "metadata": {},
   "outputs": [],
   "source": [
    "import requests\n",
    "import time\n",
    "import re\n",
    "import json\n",
    "import pandas as pd\n",
    "from bs4 import BeautifulSoup as bs\n",
    "\n",
    "import numpy as np\n",
    "from sklearn.feature_extraction.text import CountVectorizer, TfidfTransformer \n",
    "from sklearn.linear_model import LogisticRegression, RidgeClassifier\n",
    "from sklearn.model_selection import cross_val_score\n",
    "from sklearn.pipeline import Pipeline\n",
    "from sklearn.model_selection import RandomizedSearchCV\n",
    "from sklearn.utils import shuffle\n",
    "from sklearn.svm import LinearSVC\n"
   ]
  },
  {
   "cell_type": "code",
   "execution_count": 2,
   "metadata": {},
   "outputs": [],
   "source": [
    "#загрузим имеющиеся данные \n",
    "with open('/Users/erikmartirosov/python projects/_Yandex_DS/6_final/simplesentiment2/test.csv', 'r') as tt:\n",
    "    text = tt.read()\n",
    "    parser = bs(text, 'html.parser')\n",
    "    comments = parser.findAll('review')\n",
    "    \n",
    "    "
   ]
  },
  {
   "cell_type": "code",
   "execution_count": 3,
   "metadata": {},
   "outputs": [],
   "source": [
    "#поместим очищенные от разметки данные в DataFrame\n",
    "df_comments = pd.DataFrame([i.text.replace('\\n', ' ') for i in comments], columns=['text'])"
   ]
  },
  {
   "cell_type": "code",
   "execution_count": 4,
   "metadata": {},
   "outputs": [
    {
     "data": {
      "text/plain": [
       "'Звук , 2 sim, удобная удобная qwerty клавиатура ,Внешний дизайн телефона Если телефон живет у меня больше года, то это во истину отличный телефон) Когда у меня сломался мой сенсорный телефончик, я не знала что делать. Дел в том, что я не знала, какой новый телефон мне нужно. Вроде не хотелось больше сенсорный, но на обычном стандартном телефоне очень долго и неудобно писать сообщения, но так как в соц. сетях я провожу все время, это было неудобно для меня. Мой взгляд пал на этот прекрасный телефончик.Большое количество интересных цветов свело меня с ума) Так как я человек изменчивый, и яркий салатовый цвет потом мог бы меня угнетать, я решила взять нейтральный черный, и не пожалела) Началась зима, и меня поглотила депрессия, яркий цвет меня бы добил. В соц. сетях я провожу весь день, выхожу только на ночь, но при этом телефону уже год, но он не зависает и не тормозит) Для камеры на 2.0 мп фотографии получаются хорошими и четкими. Динамик тоже очень хороший, в сравнении с моим предыдущим телефоном громче раза в два. Долго держит заряд, например, если поставить на зарядку на ночь, то весь день активного использования он отработает . Еще нравится большое количество игр для этого телефона) ну и конечно же, клавиатура) сначала мне казалось, что мне будет трудно попадать по этим мелким кнопкам, но это не так, клавиатура очень комфортная. Правда сначала(так как пишу постоянно и быстро) болели пальцы, после сенсора было непривычно) Этот телефон экономит ваши деньги и время)Вообщем телефон СУПЕР ! покупайте не пожалеете. '"
      ]
     },
     "execution_count": 4,
     "metadata": {},
     "output_type": "execute_result"
    }
   ],
   "source": [
    "#посмотрим на комментарии - речь про мобильные телефоны, поэтому нужно спрасить соответствующие тематике отзывы \n",
    "df_comments['text'][13]"
   ]
  },
  {
   "cell_type": "markdown",
   "metadata": {},
   "source": [
    "**Для формирования обучающего набора, воспользуемя api mail.ru:**\n",
    "\n",
    "вид ссылки на страницу с комментариями на мобильный телефон:\n",
    "\n",
    "https://hi-tech.mail.ru/ajax/14580352-catalog/feedback/list/?page=1 \n"
   ]
  },
  {
   "cell_type": "code",
   "execution_count": null,
   "metadata": {},
   "outputs": [],
   "source": [
    "# спарсим список id телефонов с первых 30 страниц сайта\n",
    "# с помощю регулярного выражения вытащим 8 подряд идущих цифр - это и есть id \n",
    "# список с id пригодится для формирования ссылок на страницы с отзывами\n",
    "phones_id = []\n",
    "\n",
    "for i in range(1,31):\n",
    "    req = requests.get(f'https://hi-tech.mail.ru/mobile-catalog/?page={i}')\n",
    "    parser = bs(req.text, 'html')\n",
    "    for i in parser.find_all('a', class_='p-catalog-card__link link-holder'):\n",
    "        try:\n",
    "            phones_id.append(re.findall(r'\\d{8}',i.get('href'))[0])\n",
    "        except:\n",
    "            pass\n",
    "    time.sleep(1) #тайм-аут, чтоб не поймать бан"
   ]
  },
  {
   "cell_type": "code",
   "execution_count": null,
   "metadata": {},
   "outputs": [],
   "source": [
    "len(phones_id) # имеем список из 1426 телефонов"
   ]
  },
  {
   "cell_type": "code",
   "execution_count": 7,
   "metadata": {},
   "outputs": [],
   "source": [
    "# сделаем запрос и посмотрим на содержимое страницы\n",
    "req = requests.get(f'https://hi-tech.mail.ru/ajax/{phones_id[120]}-catalog/feedback/list/?page={1}')\n",
    "parser = bs(req.text, 'html')"
   ]
  },
  {
   "cell_type": "code",
   "execution_count": 8,
   "metadata": {},
   "outputs": [],
   "source": [
    "newDictionary=json.loads(parser.text)"
   ]
  },
  {
   "cell_type": "code",
   "execution_count": 9,
   "metadata": {},
   "outputs": [
    {
     "data": {
      "text/plain": [
       "5"
      ]
     },
     "execution_count": 9,
     "metadata": {},
     "output_type": "execute_result"
    }
   ],
   "source": [
    "# содеждание отзывов под тегом data\n",
    "# всего 5 комментов на странице (0-4)\n",
    "# 'star' - содержит оценку \n",
    "# 'text' - содержит 3 подтипа комментариев (плюсы, минусы, впечатления)\n",
    "newDictionary['data'][0]['star']"
   ]
  },
  {
   "cell_type": "code",
   "execution_count": null,
   "metadata": {},
   "outputs": [],
   "source": []
  },
  {
   "cell_type": "code",
   "execution_count": 9,
   "metadata": {},
   "outputs": [],
   "source": [
    "# соберем оценки и комментарии в списки\n",
    "labels = []\n",
    "comments = []\n"
   ]
  },
  {
   "cell_type": "code",
   "execution_count": 10,
   "metadata": {},
   "outputs": [],
   "source": [
    "def get_page(phone_id, page_id):\n",
    "    req = requests.get(f'https://hi-tech.mail.ru/ajax/{phone_id}-catalog/feedback/list/?page={page_id}')\n",
    "    parser = bs(req.text, 'html')\n",
    "    return json.loads(parser.text)"
   ]
  },
  {
   "cell_type": "code",
   "execution_count": 11,
   "metadata": {},
   "outputs": [],
   "source": [
    "def get_comments(page, labels, comments, n_comments=5, n_types=3):\n",
    "    for i in range(n_comments):\n",
    "        try:\n",
    "            label = page['data'][i]['star']\n",
    "            comment = [page['data'][i]['text'][j]['text'] for j in range(n_types)]\n",
    "            \n",
    "            labels.append(label)\n",
    "            comments.append(comment)\n",
    "        except: break\n",
    "\n",
    "    \n",
    "    "
   ]
  },
  {
   "cell_type": "code",
   "execution_count": 13,
   "metadata": {},
   "outputs": [],
   "source": [
    "# пройдемся по нескольким страницам отзывов для каждого телефона и соберем данные \n",
    "for i in phones_id:\n",
    "    for j in range(1,10):\n",
    "        try:\n",
    "            page = get_page(i,j)\n",
    "            get_comments(page,labels, comments)\n",
    "        except: break"
   ]
  },
  {
   "cell_type": "code",
   "execution_count": 14,
   "metadata": {},
   "outputs": [
    {
     "data": {
      "text/plain": [
       "3303"
      ]
     },
     "execution_count": 14,
     "metadata": {},
     "output_type": "execute_result"
    }
   ],
   "source": [
    "len(labels)"
   ]
  },
  {
   "cell_type": "code",
   "execution_count": 15,
   "metadata": {},
   "outputs": [
    {
     "data": {
      "text/plain": [
       "3303"
      ]
     },
     "execution_count": 15,
     "metadata": {},
     "output_type": "execute_result"
    }
   ],
   "source": [
    "len(comments)"
   ]
  },
  {
   "cell_type": "code",
   "execution_count": 16,
   "metadata": {},
   "outputs": [],
   "source": [
    "df = pd.DataFrame({'comment':comments,'label':labels})"
   ]
  },
  {
   "cell_type": "code",
   "execution_count": 17,
   "metadata": {},
   "outputs": [],
   "source": [
    "# будем считать, что все меньше 5 - негативный отзыв\n",
    "df['label'].replace([1,2,3,4],0, inplace=True)\n",
    "df['label'].replace(5,1, inplace=True)\n"
   ]
  },
  {
   "cell_type": "code",
   "execution_count": 18,
   "metadata": {},
   "outputs": [],
   "source": [
    "# отдельные столбцы: плюсы+коммент и минусы+коммент\n",
    "\n",
    "df['advantages'] = df['comment'].apply(lambda x : x[0]) +'.' + df['comment'].apply(lambda x : x[2])\n",
    "df['disadvantages'] = df['comment'].apply(lambda x : x[1]) +'.' + df['comment'].apply(lambda x : x[2])\n"
   ]
  },
  {
   "cell_type": "code",
   "execution_count": 19,
   "metadata": {},
   "outputs": [
    {
     "data": {
      "text/html": [
       "<div>\n",
       "<style scoped>\n",
       "    .dataframe tbody tr th:only-of-type {\n",
       "        vertical-align: middle;\n",
       "    }\n",
       "\n",
       "    .dataframe tbody tr th {\n",
       "        vertical-align: top;\n",
       "    }\n",
       "\n",
       "    .dataframe thead th {\n",
       "        text-align: right;\n",
       "    }\n",
       "</style>\n",
       "<table border=\"1\" class=\"dataframe\">\n",
       "  <thead>\n",
       "    <tr style=\"text-align: right;\">\n",
       "      <th></th>\n",
       "      <th>comment</th>\n",
       "      <th>label</th>\n",
       "      <th>advantages</th>\n",
       "      <th>disadvantages</th>\n",
       "    </tr>\n",
       "  </thead>\n",
       "  <tbody>\n",
       "    <tr>\n",
       "      <th>0</th>\n",
       "      <td>[Все стандартно внешний вид , экран, производи...</td>\n",
       "      <td>0</td>\n",
       "      <td>Все стандартно внешний вид , экран, производит...</td>\n",
       "      <td>Нет системы позиционирования бейдоу, хотя она ...</td>\n",
       "    </tr>\n",
       "    <tr>\n",
       "      <th>1</th>\n",
       "      <td>[мало очень , нагревается и камера не работает...</td>\n",
       "      <td>0</td>\n",
       "      <td>мало очень .неоднозначные,много ошибок</td>\n",
       "      <td>нагревается и камера не работает .неоднозначны...</td>\n",
       "    </tr>\n",
       "    <tr>\n",
       "      <th>2</th>\n",
       "      <td>[Плюсов нету,греется и плохо ловит антенна, ба...</td>\n",
       "      <td>0</td>\n",
       "      <td>Плюсов нету,греется и плохо ловит антенна, бат...</td>\n",
       "      <td>Очень дорого и не стоят этих денег,я очень пож...</td>\n",
       "    </tr>\n",
       "    <tr>\n",
       "      <th>3</th>\n",
       "      <td>[все, нет, все]</td>\n",
       "      <td>1</td>\n",
       "      <td>все.все</td>\n",
       "      <td>нет.все</td>\n",
       "    </tr>\n",
       "    <tr>\n",
       "      <th>4</th>\n",
       "      <td>[Большой экран, не обнаружил, Популярная новая...</td>\n",
       "      <td>1</td>\n",
       "      <td>Большой экран.Популярная новая модель. это кру...</td>\n",
       "      <td>не обнаружил.Популярная новая модель. это круто.</td>\n",
       "    </tr>\n",
       "  </tbody>\n",
       "</table>\n",
       "</div>"
      ],
      "text/plain": [
       "                                             comment  label  \\\n",
       "0  [Все стандартно внешний вид , экран, производи...      0   \n",
       "1  [мало очень , нагревается и камера не работает...      0   \n",
       "2  [Плюсов нету,греется и плохо ловит антенна, ба...      0   \n",
       "3                                    [все, нет, все]      1   \n",
       "4  [Большой экран, не обнаружил, Популярная новая...      1   \n",
       "\n",
       "                                          advantages  \\\n",
       "0  Все стандартно внешний вид , экран, производит...   \n",
       "1             мало очень .неоднозначные,много ошибок   \n",
       "2  Плюсов нету,греется и плохо ловит антенна, бат...   \n",
       "3                                            все.все   \n",
       "4  Большой экран.Популярная новая модель. это кру...   \n",
       "\n",
       "                                       disadvantages  \n",
       "0  Нет системы позиционирования бейдоу, хотя она ...  \n",
       "1  нагревается и камера не работает .неоднозначны...  \n",
       "2  Очень дорого и не стоят этих денег,я очень пож...  \n",
       "3                                            нет.все  \n",
       "4  не обнаружил.Популярная новая модель. это круто.   "
      ]
     },
     "execution_count": 19,
     "metadata": {},
     "output_type": "execute_result"
    }
   ],
   "source": [
    "df.head()"
   ]
  },
  {
   "cell_type": "code",
   "execution_count": 20,
   "metadata": {},
   "outputs": [],
   "source": [
    "# соберем плюсы и минусы в один столбец, оставив соответсвующую лейблу комбинацию\n",
    "adv = df[df['label']==1][['advantages','label']]\n",
    "adv.rename(columns={\"advantages\": \"comment\"}, inplace=True)\n",
    "\n",
    "disadv = df[df['label']==0][['disadvantages','label']]\n",
    "disadv.rename(columns={\"disadvantages\": \"comment\"}, inplace=True)\n",
    "\n",
    "df_train = pd.merge(adv, disadv, how='outer')\n",
    "df_train.drop_duplicates(inplace=True)\n",
    "df_train.reset_index(inplace=True)"
   ]
  },
  {
   "cell_type": "code",
   "execution_count": 220,
   "metadata": {},
   "outputs": [
    {
     "name": "stdout",
     "output_type": "stream",
     "text": [
      "LogisticRegression 0.8299535840691707\n",
      "LinearSVC 0.8775433848113356\n",
      "RidgeClassifier 0.8750915459321764\n"
     ]
    }
   ],
   "source": [
    "# обучим несколько моделей\n",
    "for model, i in {'LogisticRegression':LogisticRegression(), 'LinearSVC': LinearSVC(),\n",
    "                 'RidgeClassifier': RidgeClassifier()}.items():\n",
    "    pipline = Pipeline([\n",
    "            ('vectorizer', CountVectorizer()),\n",
    "            ('transformer', TfidfTransformer()),\n",
    "            ('classifier', i)\n",
    "        ])\n",
    "    score = cross_val_score(pipline, df_train['comment'], df_train['label'])\n",
    "    print(model, score.mean() )"
   ]
  },
  {
   "cell_type": "code",
   "execution_count": 221,
   "metadata": {},
   "outputs": [],
   "source": [
    "# LinearSVC выглядит уверенне всего, настроим параметры\n",
    "params_vectorizer = {\n",
    "    'vectorizer__max_df' : [0.85, 0.9, 0.95, 1.0],\n",
    "    'vectorizer__min_df' : [1, 10, 20], \n",
    "    'vectorizer__ngram_range' : [(1, 1), (1, 2), (1, 3)],\n",
    "    'vectorizer__stop_words' : [None, 'english']\n",
    "}\n",
    "\n",
    "params_LSVC = {\n",
    "    'classifier__loss': ['hinge', 'squared_hinge'], \n",
    "    'classifier__max_iter': np.arange(100, 1000, 50),\n",
    "    'classifier__tol': [1e-5, 1e-4, 1e-3, 1e-2],\n",
    "    'classifier__C': np.arange(0.1, 2, 0.1)}"
   ]
  },
  {
   "cell_type": "code",
   "execution_count": 222,
   "metadata": {},
   "outputs": [],
   "source": [
    "pipline = Pipeline([\n",
    "            ('vectorizer', CountVectorizer()),\n",
    "            ('transformer', TfidfTransformer()),\n",
    "            ('classifier', LinearSVC())\n",
    "        ])\n",
    "grid_cv = RandomizedSearchCV(pipline, {**params_vectorizer,**params_LSVC}, \n",
    "                             scoring='accuracy', cv=5, random_state=42, n_iter= 100,n_jobs= -1 )"
   ]
  },
  {
   "cell_type": "code",
   "execution_count": 223,
   "metadata": {},
   "outputs": [
    {
     "data": {
      "text/plain": [
       "RandomizedSearchCV(cv=5,\n",
       "                   estimator=Pipeline(steps=[('vectorizer', CountVectorizer()),\n",
       "                                             ('transformer',\n",
       "                                              TfidfTransformer()),\n",
       "                                             ('classifier', LinearSVC())]),\n",
       "                   n_iter=100, n_jobs=-1,\n",
       "                   param_distributions={'classifier__C': array([0.1, 0.2, 0.3, 0.4, 0.5, 0.6, 0.7, 0.8, 0.9, 1. , 1.1, 1.2, 1.3,\n",
       "       1.4, 1.5, 1.6, 1.7, 1.8, 1.9]),\n",
       "                                        'classifier__loss': ['hinge',\n",
       "                                                             'squared_hinge'],\n",
       "                                        'classifier__max_iter': array([100, 150, 200, 250, 300, 350, 400, 450, 500, 550, 600, 650, 700,\n",
       "       750, 800, 850, 900, 950]),\n",
       "                                        'classifier__tol': [1e-05, 0.0001,\n",
       "                                                            0.001, 0.01],\n",
       "                                        'vectorizer__max_df': [0.85, 0.9, 0.95,\n",
       "                                                               1.0],\n",
       "                                        'vectorizer__min_df': [1, 10, 20],\n",
       "                                        'vectorizer__ngram_range': [(1, 1),\n",
       "                                                                    (1, 2),\n",
       "                                                                    (1, 3)],\n",
       "                                        'vectorizer__stop_words': [None,\n",
       "                                                                   'english']},\n",
       "                   random_state=42, scoring='accuracy')"
      ]
     },
     "execution_count": 223,
     "metadata": {},
     "output_type": "execute_result"
    }
   ],
   "source": [
    "grid_cv.fit(df_train['comment'], df_train['label'])"
   ]
  },
  {
   "cell_type": "code",
   "execution_count": 224,
   "metadata": {},
   "outputs": [
    {
     "data": {
      "text/plain": [
       "Pipeline(steps=[('vectorizer',\n",
       "                 CountVectorizer(max_df=0.85, ngram_range=(1, 2))),\n",
       "                ('transformer', TfidfTransformer()),\n",
       "                ('classifier',\n",
       "                 LinearSVC(C=1.7000000000000002, loss='hinge', max_iter=500))])"
      ]
     },
     "execution_count": 224,
     "metadata": {},
     "output_type": "execute_result"
    }
   ],
   "source": [
    "grid_cv.best_estimator_"
   ]
  },
  {
   "cell_type": "code",
   "execution_count": 225,
   "metadata": {},
   "outputs": [
    {
     "data": {
      "text/plain": [
       "0.8876844696459407"
      ]
     },
     "execution_count": 225,
     "metadata": {},
     "output_type": "execute_result"
    }
   ],
   "source": [
    "grid_cv.best_score_"
   ]
  },
  {
   "cell_type": "code",
   "execution_count": 228,
   "metadata": {},
   "outputs": [],
   "source": [
    "# запишем решение\n",
    "submission = pd.DataFrame(grid_cv.predict(df_comments['text']), columns=['y'] )\n",
    "submission['id'] = df_comments.index\n",
    "submission['y']= submission['y'].apply(lambda x: 'neg' if x == 0 else 'pos')\n",
    "submission[['id','y']].to_csv('w6_submission.csv', index = False)"
   ]
  },
  {
   "cell_type": "code",
   "execution_count": null,
   "metadata": {},
   "outputs": [],
   "source": []
  },
  {
   "cell_type": "code",
   "execution_count": null,
   "metadata": {},
   "outputs": [],
   "source": []
  }
 ],
 "metadata": {
  "kernelspec": {
   "display_name": "Python 3",
   "language": "python",
   "name": "python3"
  },
  "language_info": {
   "codemirror_mode": {
    "name": "ipython",
    "version": 3
   },
   "file_extension": ".py",
   "mimetype": "text/x-python",
   "name": "python",
   "nbconvert_exporter": "python",
   "pygments_lexer": "ipython3",
   "version": "3.9.1"
  }
 },
 "nbformat": 4,
 "nbformat_minor": 4
}
