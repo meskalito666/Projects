{
 "cells": [
  {
   "cell_type": "markdown",
   "metadata": {},
   "source": [
    "**Задача:**\n",
    "\n",
    "У вас есть список конфет разных типов, вам нужно собрать одинаковые наборы для своих друзей.\n",
    "\n",
    "Какому максимальному числу друзей вы сможете собрать наборы так, чтобы раздарить все конфеты.\n",
    "\n",
    "Реализуйте функцию на питоне, которая принимает на вход список конфет и отдает максимальное число друзей. Формат входных данных - список строк."
   ]
  },
  {
   "cell_type": "code",
   "execution_count": 121,
   "metadata": {},
   "outputs": [],
   "source": [
    "# Задача экваивалентна нахождению наибольшего общего делителя(НОД).\n",
    "# сперва напишем функцию, которая собирает словарь уникальных конфет и их количество\n",
    "# затем воспользуемся реализацией НОД в библиотеки math \n",
    "\n",
    "from math import gcd\n",
    "\n",
    "def candys_for_friends(candys):\n",
    "    uniq_candy = {}\n",
    "    for i in candys:\n",
    "        if i in uniq_candy:\n",
    "            uniq_candy[i]+=1\n",
    "        else: uniq_candy[i]=1\n",
    "    return math.gcd(*uniq_candy.values())"
   ]
  },
  {
   "cell_type": "code",
   "execution_count": 142,
   "metadata": {},
   "outputs": [
    {
     "data": {
      "text/plain": [
       "1"
      ]
     },
     "execution_count": 142,
     "metadata": {},
     "output_type": "execute_result"
    }
   ],
   "source": [
    "test_1 = ['a', 'a', 'a', 'b', 'b', 'b', 'b', 'c', 'c', 'c', 'c', 'c']\n",
    "candys_for_friends(test_1)"
   ]
  },
  {
   "cell_type": "code",
   "execution_count": 143,
   "metadata": {},
   "outputs": [
    {
     "data": {
      "text/plain": [
       "2"
      ]
     },
     "execution_count": 143,
     "metadata": {},
     "output_type": "execute_result"
    }
   ],
   "source": [
    "test_2 = ['a', 'b', 'c', 'a', 'b', 'c', 'c', 'c']\n",
    "candys_for_friends(test_2)"
   ]
  },
  {
   "cell_type": "code",
   "execution_count": null,
   "metadata": {},
   "outputs": [],
   "source": []
  }
 ],
 "metadata": {
  "kernelspec": {
   "display_name": "Python 3",
   "language": "python",
   "name": "python3"
  },
  "language_info": {
   "codemirror_mode": {
    "name": "ipython",
    "version": 3
   },
   "file_extension": ".py",
   "mimetype": "text/x-python",
   "name": "python",
   "nbconvert_exporter": "python",
   "pygments_lexer": "ipython3",
   "version": "3.9.1"
  }
 },
 "nbformat": 4,
 "nbformat_minor": 4
}
